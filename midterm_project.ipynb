{
 "cells": [
  {
   "cell_type": "markdown",
   "id": "mobile-johns",
   "metadata": {},
   "source": [
    "# Load Packages"
   ]
  },
  {
   "cell_type": "code",
   "execution_count": 2,
   "id": "cosmetic-bolivia",
   "metadata": {},
   "outputs": [],
   "source": [
    "import numpy as np\n",
    "from matplotlib import pyplot as plt\n",
    "%matplotlib inline"
   ]
  },
  {
   "cell_type": "markdown",
   "id": "immediate-briefs",
   "metadata": {},
   "source": [
    "# Load Data Points (Do not modify the following block)"
   ]
  },
  {
   "cell_type": "code",
   "execution_count": 3,
   "id": "surgical-background",
   "metadata": {},
   "outputs": [
    {
     "name": "stdout",
     "output_type": "stream",
     "text": [
      "=================================\n",
      "We have 15 number of data\n",
      "=================================\n",
      "Coefficients of the original polynomial\n",
      "w0:-0.467  w1:-0.005  w2:0.281  w3:-0.054  \n",
      "=================================\n"
     ]
    },
    {
     "data": {
      "image/png": "[encoded data removed]",
      "text/plain": [
       "<Figure size 432x288 with 1 Axes>"
      ]
     },
     "metadata": {
      "needs_background": "light"
     },
     "output_type": "display_data"
    }
   ],
   "source": [
    "with open('training_data.npz', 'rb') as f:\n",
    "    data = np.load(f)\n",
    "\n",
    "    x_list = data['x_list']\n",
    "    y_list = data['y_list']\n",
    "\n",
    "    x_data = data['x_data']\n",
    "    y_data = data['y_data']\n",
    "    n_data = len(x_data)\n",
    "    \n",
    "    w = data['w']\n",
    "    original_degree = data['order']\n",
    "    \n",
    "# Print information of original function.\n",
    "print(\"=================================\")\n",
    "print(\"We have\", n_data, \"number of data\")\n",
    "\n",
    "print(\"=================================\")\n",
    "weight_info_string = ''\n",
    "for d in range(original_degree):\n",
    "    weight_info_string += 'w'+str(d)+':'+str(round(w[d],ndigits=3))+'  '\n",
    "print(\"Coefficients of the original polynomial\")\n",
    "print(weight_info_string)\n",
    "print(\"=================================\")\n",
    "    \n",
    "plt.plot(x_list, y_list, 'b:', linewidth=2, label=\"Original Function\")\n",
    "plt.scatter(x_data, y_data, s=50, c='r', label=\"Data Points\")\n",
    "plt.xlim([np.min(x_list),np.max(x_list)])\n",
    "plt.ylim([np.min(y_data),np.max(y_data)])\n",
    "plt.legend(prop={'size': 12})\n",
    "plt.title(\"Data Plot\")\n",
    "plt.show()"
   ]
  },
  {
   "cell_type": "markdown",
   "id": "isolated-airfare",
   "metadata": {},
   "source": [
    "# Polynomial Regression (Programming Assignment)\n",
    "### Variable Explanation (Do not change variable names)\n",
    "- 'w' is true coefficients of the original polynomial function\n",
    "- 'original_degree' is the order of the original polynomial function\n",
    "- 'x_list' is a list of the points at $x$-axis\n",
    "- 'y_list' is a list of function value $f(x)$ corresponding to 'x_list'. In other words, y_list = $f($x_list$)$\n",
    "- 'x_data' is an input data\n",
    "- 'y_data' is an output data\n",
    "- 'n_data' is the number of data points\n",
    "\n",
    "### Our goal is to estimate 'w' from data points, 'x_data' and 'y_data'. Answer the following problems."
   ]
  },
  {
   "cell_type": "markdown",
   "id": "growing-leather",
   "metadata": {},
   "source": [
    "### 1. Compute a Vandermonde matrix when the degree of polynomial is $4$ (30pt)\n",
    "- The variable 'degree' is the order of polynomial. In this problem, we set degree=$4$\n",
    "- Use the variable 'A' for the Vandermonde matrix. Now, 'A' is initialized as a zero matrix whose elements are all zero. Fill in the element of the Vandermonde matrix by using power operator (\\*\\*), for loop, and np.concatenation."
   ]
  },
  {
   "cell_type": "code",
   "execution_count": 78,
   "id": "outstanding-oriental",
   "metadata": {},
   "outputs": [
    {
     "name": "stdout",
     "output_type": "stream",
     "text": [
      "[[ 1.00000000e+00  7.69458258e-01  5.92066011e-01  4.55570081e-01\n",
      "   3.50542161e-01]\n",
      " [ 1.00000000e+00 -5.48726825e-01  3.01101129e-01 -1.65222266e-01\n",
      "   9.06618896e-02]\n",
      " [ 1.00000000e+00 -3.96088994e-01  1.56886491e-01 -6.21410124e-02\n",
      "   2.46133711e-02]\n",
      " [ 1.00000000e+00 -3.44457358e-01  1.18650871e-01 -4.08701656e-02\n",
      "   1.40780292e-02]\n",
      " [ 1.00000000e+00 -1.73259726e+00  3.00189326e+00 -5.20107204e+00\n",
      "   9.01136317e+00]\n",
      " [ 1.00000000e+00 -1.02635747e+00  1.05340965e+00 -1.08117486e+00\n",
      "   1.10967189e+00]\n",
      " [ 1.00000000e+00  8.31832735e-01  6.91945699e-01  5.75583083e-01\n",
      "   4.78788850e-01]\n",
      " [ 1.00000000e+00  4.18095727e-01  1.74804037e-01  7.30848209e-02\n",
      "   3.05564513e-02]\n",
      " [ 1.00000000e+00 -7.73450895e-01  5.98226287e-01 -4.62698657e-01\n",
      "   3.57874691e-01]\n",
      " [ 1.00000000e+00  1.41388300e-01  1.99906515e-02  2.82644423e-03\n",
      "   3.99626146e-04]\n",
      " [ 1.00000000e+00  3.16614871e-01  1.00244977e-01  3.17390503e-02\n",
      "   1.00490553e-02]\n",
      " [ 1.00000000e+00  8.32089704e-01  6.92373276e-01  5.76116675e-01\n",
      "   4.79380754e-01]\n",
      " [ 1.00000000e+00 -2.03496622e-02  4.14108750e-04 -8.42697316e-06\n",
      "   1.71486057e-07]\n",
      " [ 1.00000000e+00 -2.43428332e-01  5.92573530e-02 -1.44249186e-02\n",
      "   3.51143388e-03]\n",
      " [ 1.00000000e+00 -2.17955166e+00  4.75044544e+00 -1.03538413e+01\n",
      "   2.25667319e+01]]\n"
     ]
    }
   ],
   "source": [
    "degree = 4\n",
    "A = np.zeros((n_data, degree+1)) # Dummy initialization\n",
    "\n",
    "k=np.array([[x_data[0]**0,x_data[0]**1,x_data[0]**2,x_data[0]**3,x_data[0]**4]])\n",
    "for i in range (1,15):\n",
    "    bi= np.array([[x_data[i]**0,x_data[i]**1,x_data[i]**2,x_data[i]**3,x_data[i]**4]])\n",
    "    \n",
    " \n",
    "    k=np.concatenate((k,bi),axis=0)\n",
    "\n",
    "A=A+k   \n",
    "\n",
    "    "
   ]
  },
  {
   "cell_type": "markdown",
   "id": "mounted-fisher",
   "metadata": {},
   "source": [
    "### Print results (do not modify the following block)"
   ]
  },
  {
   "cell_type": "code",
   "execution_count": 76,
   "id": "mediterranean-brake",
   "metadata": {},
   "outputs": [
    {
     "name": "stdout",
     "output_type": "stream",
     "text": [
      "[[ 1.00000000e+00  7.69458258e-01  5.92066011e-01  4.55570081e-01\n",
      "   3.50542161e-01]\n",
      " [ 1.00000000e+00 -5.48726825e-01  3.01101129e-01 -1.65222266e-01\n",
      "   9.06618896e-02]\n",
      " [ 1.00000000e+00 -3.96088994e-01  1.56886491e-01 -6.21410124e-02\n",
      "   2.46133711e-02]\n",
      " [ 1.00000000e+00 -3.44457358e-01  1.18650871e-01 -4.08701656e-02\n",
      "   1.40780292e-02]\n",
      " [ 1.00000000e+00 -1.73259726e+00  3.00189326e+00 -5.20107204e+00\n",
      "   9.01136317e+00]\n",
      " [ 1.00000000e+00 -1.02635747e+00  1.05340965e+00 -1.08117486e+00\n",
      "   1.10967189e+00]\n",
      " [ 1.00000000e+00  8.31832735e-01  6.91945699e-01  5.75583083e-01\n",
      "   4.78788850e-01]\n",
      " [ 1.00000000e+00  4.18095727e-01  1.74804037e-01  7.30848209e-02\n",
      "   3.05564513e-02]\n",
      " [ 1.00000000e+00 -7.73450895e-01  5.98226287e-01 -4.62698657e-01\n",
      "   3.57874691e-01]\n",
      " [ 1.00000000e+00  1.41388300e-01  1.99906515e-02  2.82644423e-03\n",
      "   3.99626146e-04]\n",
      " [ 1.00000000e+00  3.16614871e-01  1.00244977e-01  3.17390503e-02\n",
      "   1.00490553e-02]\n",
      " [ 1.00000000e+00  8.32089704e-01  6.92373276e-01  5.76116675e-01\n",
      "   4.79380754e-01]\n",
      " [ 1.00000000e+00 -2.03496622e-02  4.14108750e-04 -8.42697316e-06\n",
      "   1.71486057e-07]\n",
      " [ 1.00000000e+00 -2.43428332e-01  5.92573530e-02 -1.44249186e-02\n",
      "   3.51143388e-03]\n",
      " [ 1.00000000e+00 -2.17955166e+00  4.75044544e+00 -1.03538413e+01\n",
      "   2.25667319e+01]]\n"
     ]
    }
   ],
   "source": [
    "print(A)"
   ]
  },
  {
   "cell_type": "markdown",
   "id": "approximate-italic",
   "metadata": {},
   "source": [
    "### 2. Compute the coefficients of polynomial regression using a $4$ degree polynomial  (40pt)\n",
    "- Use the variable 'degree' and the Vandermonde matrix 'A' in Problem 1.\n",
    "- The variable 'w_est' is the coefficients of polynomial regression. Now, 'w_est' is initialized as a zero vector. Compute the 'w_est' from 'A' and 'y'\n",
    "- The variable 'y_est' is an estimated function value corresponding to the input points 'x_list'. Now, it is a zero list and fill the list by computing the estimated function values. In other words, y_est = $\\hat{f}($x_list$)$"
   ]
  },
  {
   "cell_type": "code",
   "execution_count": 95,
   "id": "finished-incentive",
   "metadata": {},
   "outputs": [],
   "source": [
    "w_est = np.zeros((5,1))\n",
    "Y = np.array([[y_data[0]],[y_data[1]],[y_data[2]],[y_data[3]],[y_data[4]],[y_data[5]],[y_data[6]],[y_data[7]],[y_data[8]],[y_data[9]],[y_data[10]],[y_data[11]],[y_data[12]],[y_data[13]],[y_data[14]]])\n",
    "w = np.dot(np.dot(np.linalg.inv(np.dot (A.T, A)),A.T),Y)\n",
    "w_est=w_est+w\n",
    "\n",
    "y_est = np.zeros_like(x_list)\n",
    "\n",
    "aa = np.zeros((100, degree+1)) \n",
    "kk=np.array([[x_list[0]**0,x_list[0]**1,x_list[0]**2,x_list[0]**3,x_list[0]**4]])\n",
    "for j in range (1,100):\n",
    "    bj= np.array([[x_list[j]**0,x_list[j]**1,x_list[j]**2,x_list[j]**3,x_list[j]**4]])\n",
    "    \n",
    "    \n",
    "    kk=np.concatenate((kk,bj),axis=0)\n",
    "    \n",
    "aa=aa+kk\n",
    "yy=np.dot(aa,w_est)\n",
    "y_est=yy\n",
    "\n",
    "\n"
   ]
  },
  {
   "cell_type": "markdown",
   "id": "exterior-donor",
   "metadata": {},
   "source": [
    "### Print results (do not modify the following block)"
   ]
  },
  {
   "cell_type": "code",
   "execution_count": 96,
   "id": "innovative-truth",
   "metadata": {},
   "outputs": [
    {
     "data": {
      "image/png": "[encoded data removed]",
      "text/plain": [
       "<Figure size 432x288 with 1 Axes>"
      ]
     },
     "metadata": {
      "needs_background": "light"
     },
     "output_type": "display_data"
    }
   ],
   "source": [
    "plt.plot(x_list, y_list, 'b:', linewidth=2, label=\"Original Function\")\n",
    "plt.plot(x_list, y_est, 'm-', linewidth=2, label=\"Polynomial Regression (d={})\".format(degree))\n",
    "plt.scatter(x_data, y_data, s=50, c='r', label=\"Data Points\")\n",
    "plt.xlim([np.min(x_list),np.max(x_list)])\n",
    "plt.ylim([np.min(y_data),np.max(y_data)])\n",
    "plt.legend(prop={'size': 12})\n",
    "plt.title(\"Data Plot\")\n",
    "plt.show()"
   ]
  },
  {
   "cell_type": "markdown",
   "id": "832314d3",
   "metadata": {},
   "source": [
    "### 3. Compute the polynomial regression with $1$ degree polynomials (15pt)\n",
    "- Repeat Problem 1 and Problem 2 with degree $1$.\n",
    "- Use the following variables.\n",
    "> degree1, A1, w_est1, y_est1"
   ]
  },
  {
   "cell_type": "code",
   "execution_count": 94,
   "id": "australian-italy",
   "metadata": {},
   "outputs": [
    {
     "name": "stdout",
     "output_type": "stream",
     "text": [
      "[[ 1.          0.76945826]\n",
      " [ 1.         -0.54872683]\n",
      " [ 1.         -0.39608899]\n",
      " [ 1.         -0.34445736]\n",
      " [ 1.         -1.73259726]\n",
      " [ 1.         -1.02635747]\n",
      " [ 1.          0.83183273]\n",
      " [ 1.          0.41809573]\n",
      " [ 1.         -0.7734509 ]\n",
      " [ 1.          0.1413883 ]\n",
      " [ 1.          0.31661487]\n",
      " [ 1.          0.8320897 ]\n",
      " [ 1.         -0.02034966]\n",
      " [ 1.         -0.24342833]\n",
      " [ 1.         -2.17955166]]\n",
      "[[ 0.04199764]\n",
      " [-2.19963918]]\n",
      "[[ 4.44127600e+00]\n",
      " [ 4.35240169e+00]\n",
      " [ 4.26352738e+00]\n",
      " [ 4.17465307e+00]\n",
      " [ 4.08577876e+00]\n",
      " [ 3.99690445e+00]\n",
      " [ 3.90803014e+00]\n",
      " [ 3.81915583e+00]\n",
      " [ 3.73028152e+00]\n",
      " [ 3.64140721e+00]\n",
      " [ 3.55253290e+00]\n",
      " [ 3.46365859e+00]\n",
      " [ 3.37478427e+00]\n",
      " [ 3.28590996e+00]\n",
      " [ 3.19703565e+00]\n",
      " [ 3.10816134e+00]\n",
      " [ 3.01928703e+00]\n",
      " [ 2.93041272e+00]\n",
      " [ 2.84153841e+00]\n",
      " [ 2.75266410e+00]\n",
      " [ 2.66378979e+00]\n",
      " [ 2.57491548e+00]\n",
      " [ 2.48604117e+00]\n",
      " [ 2.39716686e+00]\n",
      " [ 2.30829255e+00]\n",
      " [ 2.21941824e+00]\n",
      " [ 2.13054393e+00]\n",
      " [ 2.04166962e+00]\n",
      " [ 1.95279531e+00]\n",
      " [ 1.86392100e+00]\n",
      " [ 1.77504669e+00]\n",
      " [ 1.68617238e+00]\n",
      " [ 1.59729807e+00]\n",
      " [ 1.50842376e+00]\n",
      " [ 1.41954945e+00]\n",
      " [ 1.33067514e+00]\n",
      " [ 1.24180083e+00]\n",
      " [ 1.15292652e+00]\n",
      " [ 1.06405221e+00]\n",
      " [ 9.75177895e-01]\n",
      " [ 8.86303584e-01]\n",
      " [ 7.97429274e-01]\n",
      " [ 7.08554964e-01]\n",
      " [ 6.19680653e-01]\n",
      " [ 5.30806343e-01]\n",
      " [ 4.41932032e-01]\n",
      " [ 3.53057722e-01]\n",
      " [ 2.64183412e-01]\n",
      " [ 1.75309101e-01]\n",
      " [ 8.64347910e-02]\n",
      " [-2.43951938e-03]\n",
      " [-9.13138298e-02]\n",
      " [-1.80188140e-01]\n",
      " [-2.69062450e-01]\n",
      " [-3.57936761e-01]\n",
      " [-4.46811071e-01]\n",
      " [-5.35685382e-01]\n",
      " [-6.24559692e-01]\n",
      " [-7.13434002e-01]\n",
      " [-8.02308313e-01]\n",
      " [-8.91182623e-01]\n",
      " [-9.80056933e-01]\n",
      " [-1.06893124e+00]\n",
      " [-1.15780555e+00]\n",
      " [-1.24667986e+00]\n",
      " [-1.33555417e+00]\n",
      " [-1.42442849e+00]\n",
      " [-1.51330280e+00]\n",
      " [-1.60217711e+00]\n",
      " [-1.69105142e+00]\n",
      " [-1.77992573e+00]\n",
      " [-1.86880004e+00]\n",
      " [-1.95767435e+00]\n",
      " [-2.04654866e+00]\n",
      " [-2.13542297e+00]\n",
      " [-2.22429728e+00]\n",
      " [-2.31317159e+00]\n",
      " [-2.40204590e+00]\n",
      " [-2.49092021e+00]\n",
      " [-2.57979452e+00]\n",
      " [-2.66866883e+00]\n",
      " [-2.75754314e+00]\n",
      " [-2.84641745e+00]\n",
      " [-2.93529176e+00]\n",
      " [-3.02416607e+00]\n",
      " [-3.11304038e+00]\n",
      " [-3.20191469e+00]\n",
      " [-3.29078900e+00]\n",
      " [-3.37966331e+00]\n",
      " [-3.46853762e+00]\n",
      " [-3.55741193e+00]\n",
      " [-3.64628624e+00]\n",
      " [-3.73516056e+00]\n",
      " [-3.82403487e+00]\n",
      " [-3.91290918e+00]\n",
      " [-4.00178349e+00]\n",
      " [-4.09065780e+00]\n",
      " [-4.17953211e+00]\n",
      " [-4.26840642e+00]\n",
      " [-4.35728073e+00]]\n"
     ]
    }
   ],
   "source": [
    "degree1 = 1\n",
    "A1 = np.zeros((n_data, degree1+1)) \n",
    "k1=np.array([[x_data[0]**0,x_data[0]**1]])\n",
    "for i in range (1,15):\n",
    "    ai= np.array([[x_data[i]**0,x_data[i]**1]])\n",
    "    \n",
    " \n",
    "    k1=np.concatenate((k1,ai),axis=0)\n",
    "\n",
    "A1=A1+k1   \n",
    "print(A1)\n",
    "\n",
    "w_est1 = np.zeros((degree1+1,1))\n",
    "Y1 = np.array([[y_data[0]],[y_data[1]],[y_data[2]],[y_data[3]],[y_data[4]],[y_data[5]],[y_data[6]],[y_data[7]],[y_data[8]],[y_data[9]],[y_data[10]],[y_data[11]],[y_data[12]],[y_data[13]],[y_data[14]]])\n",
    "w1 = np.dot(np.dot(np.linalg.inv(np.dot (A1.T, A1)),A1.T),Y1)\n",
    "w_est1=w_est1+w1\n",
    "print(w_est1)\n",
    "\n",
    "y_est1 = np.zeros_like(x_list)\n",
    "aa1 = np.zeros((100, degree1+1)) \n",
    "kk1=np.array([[x_list[0]**0,x_list[0]**1]])\n",
    "for i in range (1,100):\n",
    "    ci= np.array([[x_list[i]**0,x_list[i]**1]])\n",
    "    \n",
    "    \n",
    "    kk1=np.concatenate((kk1,ci),axis=0)\n",
    "    \n",
    "aa1=aa1+kk1\n",
    "yy1=np.dot(aa1,w_est1)\n",
    "y_est1=yy1\n",
    "\n",
    "print(y_est1)"
   ]
  },
  {
   "cell_type": "markdown",
   "id": "fbad3a1f",
   "metadata": {},
   "source": [
    "### Print results (do not modify the following block)"
   ]
  },
  {
   "cell_type": "code",
   "execution_count": 93,
   "id": "736eb7bc",
   "metadata": {},
   "outputs": [
    {
     "data": {
      "image/png": "[encoded data removed]",
      "text/plain": [
       "<Figure size 432x288 with 1 Axes>"
      ]
     },
     "metadata": {
      "needs_background": "light"
     },
     "output_type": "display_data"
    }
   ],
   "source": [
    "plt.plot(x_list, y_list, 'b:', linewidth=2, label=\"Original Function\")\n",
    "plt.plot(x_list, y_est1, 'g-', linewidth=2, label=\"Polynomial Regression (d={})\".format(degree1))\n",
    "plt.scatter(x_data, y_data, s=50, c='r', label=\"Data Points\")\n",
    "plt.xlim([np.min(x_list),np.max(x_list)])\n",
    "plt.ylim([np.min(y_data),np.max(y_data)])\n",
    "plt.legend(prop={'size': 12})\n",
    "plt.title(\"Data Plot\")\n",
    "plt.show()"
   ]
  },
  {
   "cell_type": "markdown",
   "id": "41f7b968",
   "metadata": {},
   "source": [
    "### 4. Compute the polynomial regression with $10$ degree polynomials (15pt)\n",
    "- Repeat Problem 1 and Problem 2 with degree $10$.\n",
    "- Use the following variables.\n",
    "> degree2, A2, w_est2, y_est2"
   ]
  },
  {
   "cell_type": "code",
   "execution_count": 104,
   "id": "9a5f291b",
   "metadata": {},
   "outputs": [
    {
     "name": "stdout",
     "output_type": "stream",
     "text": [
      "[[ 4.73697181e+01]\n",
      " [ 4.13035912e+01]\n",
      " [ 3.39286564e+01]\n",
      " [ 2.62380844e+01]\n",
      " [ 1.89008918e+01]\n",
      " [ 1.23350107e+01]\n",
      " [ 6.76806618e+00]\n",
      " [ 2.28741051e+00]\n",
      " [-1.11918330e+00]\n",
      " [-3.53089077e+00]\n",
      " [-5.06811743e+00]\n",
      " [-5.87265613e+00]\n",
      " [-6.09279215e+00]\n",
      " [-5.87252936e+00]\n",
      " [-5.34420468e+00]\n",
      " [-4.62384559e+00]\n",
      " [-3.80870614e+00]\n",
      " [-2.97649183e+00]\n",
      " [-2.18585218e+00]\n",
      " [-1.47778257e+00]\n",
      " [-8.77634419e-01]\n",
      " [-3.97484401e-01]\n",
      " [-3.86603790e-02]\n",
      " [ 2.05736404e-01]\n",
      " [ 3.48436080e-01]\n",
      " [ 4.05822186e-01]\n",
      " [ 3.96032654e-01]\n",
      " [ 3.37376717e-01]\n",
      " [ 2.47083739e-01]\n",
      " [ 1.40382476e-01]\n",
      " [ 2.98950761e-02]\n",
      " [-7.46810502e-02]\n",
      " [-1.66638734e-01]\n",
      " [-2.42114945e-01]\n",
      " [-2.99777566e-01]\n",
      " [-3.40390829e-01]\n",
      " [-3.66304675e-01]\n",
      " [-3.80911053e-01]\n",
      " [-3.88106560e-01]\n",
      " [-3.91795963e-01]\n",
      " [-3.95465383e-01]\n",
      " [-4.01847351e-01]\n",
      " [-4.12692928e-01]\n",
      " [-4.28658761e-01]\n",
      " [-4.49309607e-01]\n",
      " [-4.73229654e-01]\n",
      " [-4.98229267e-01]\n",
      " [-5.21627615e-01]\n",
      " [-5.40586480e-01]\n",
      " [-5.52466361e-01]\n",
      " [-5.55173248e-01]\n",
      " [-5.47463207e-01]\n",
      " [-5.29172501e-01]\n",
      " [-5.01343578e-01]\n",
      " [-4.66222149e-01]\n",
      " [-4.27107902e-01]\n",
      " [-3.88051515e-01]\n",
      " [-3.53403619e-01]\n",
      " [-3.27237610e-01]\n",
      " [-3.12687783e-01]\n",
      " [-3.11267560e-01]\n",
      " [-3.22259678e-01]\n",
      " [-3.42301451e-01]\n",
      " [-3.65323767e-01]\n",
      " [-3.83042625e-01]\n",
      " [-3.86246882e-01]\n",
      " [-3.67175877e-01]\n",
      " [-3.23335727e-01]\n",
      " [-2.63163790e-01]\n",
      " [-2.14017168e-01]\n",
      " [-2.33033436e-01]\n",
      " [-4.21490277e-01]\n",
      " [-9.43375627e-01]\n",
      " [-2.04897144e+00]\n",
      " [-4.10435257e+00]\n",
      " [-7.62780783e+00]\n",
      " [-1.33343030e+01]\n",
      " [-2.21892259e+01]\n",
      " [-3.54727824e+01]\n",
      " [-5.48565464e+01]\n",
      " [-8.24938153e+01]\n",
      " [-1.21125570e+02]\n",
      " [-1.74204004e+02]\n",
      " [-2.46035757e+02]\n",
      " [-3.41947165e+02]\n",
      " [-4.68474026e+02]\n",
      " [-6.33578595e+02]\n",
      " [-8.46896700e+02]\n",
      " [-1.12001813e+03]\n",
      " [-1.46680362e+03]\n",
      " [-1.90374207e+03]\n",
      " [-2.45035185e+03]\n",
      " [-3.12963018e+03]\n",
      " [-3.96855520e+03]\n",
      " [-4.99864512e+03]\n",
      " [-6.25657967e+03]\n",
      " [-7.78488893e+03]\n",
      " [-9.63271519e+03]\n",
      " [-1.18566538e+04]\n",
      " [-1.45216792e+04]]\n"
     ]
    }
   ],
   "source": [
    "degree2 = 10\n",
    "A2 = np.zeros((n_data, degree2+1))\n",
    "k2=np.array([[x_data[0]**0,x_data[0]**1,x_data[0]**2,x_data[0]**3,x_data[0]**4,x_data[0]**5,x_data[0]**6,x_data[0]**7,x_data[0]**8,x_data[0]**9,x_data[0]**10]])\n",
    "for i in range (1,15):\n",
    "    di= np.array([[x_data[i]**0,x_data[i]**1,x_data[i]**2,x_data[i]**3,x_data[i]**4,x_data[i]**5,x_data[i]**6,x_data[i]**7,x_data[i]**8,x_data[i]**9,x_data[i]**10]])\n",
    "    \n",
    " \n",
    "    k2=np.concatenate((k2,di),axis=0)\n",
    "\n",
    "A2=A2+k2\n",
    "\n",
    "\n",
    "w_est2 = np.zeros((degree2+1,1))\n",
    "Y2 = np.array([[y_data[0]],[y_data[1]],[y_data[2]],[y_data[3]],[y_data[4]],[y_data[5]],[y_data[6]],[y_data[7]],[y_data[8]],[y_data[9]],[y_data[10]],[y_data[11]],[y_data[12]],[y_data[13]],[y_data[14]]])\n",
    "w2 = np.dot(np.dot(np.linalg.inv(np.dot (A2.T, A2)),A2.T),Y2)\n",
    "w_est2=w_est2+w2\n",
    "\n",
    "\n",
    "\n",
    "y_est2 = np.zeros_like(x_list)\n",
    "aa2 = np.zeros((100, degree2+1)) \n",
    "kk2=np.array([[x_list[0]**0,x_list[0]**1,x_list[0]**2,x_list[0]**3,x_list[0]**4,x_list[0]**5,x_list[0]**6,x_list[0]**7,x_list[0]**8,x_list[0]**9,x_list[0]**10]])\n",
    "for i in range (1,100):\n",
    "    ei= np.array([[x_list[i]**0,x_list[i]**1,x_list[i]**2,x_list[i]**3,x_list[i]**4,x_list[i]**5,x_list[i]**6,x_list[i]**7,x_list[i]**8,x_list[i]**9,x_list[i]**10]])\n",
    "    \n",
    "    \n",
    "    kk2=np.concatenate((kk2,ei),axis=0)\n",
    "    \n",
    "aa2=aa2+kk2\n",
    "yy2=np.dot(aa2,w_est2)\n",
    "y_est2=yy2\n",
    "\n",
    "print(y_est2)\n",
    "\n",
    "\n",
    "\n",
    "\n"
   ]
  },
  {
   "cell_type": "markdown",
   "id": "af7c0797",
   "metadata": {},
   "source": [
    "### Print results (do not modify the following block)"
   ]
  },
  {
   "cell_type": "code",
   "execution_count": 103,
   "id": "dying-international",
   "metadata": {},
   "outputs": [
    {
     "data": {
      "image/png": "[encoded data removed]",
      "text/plain": [
       "<Figure size 432x288 with 1 Axes>"
      ]
     },
     "metadata": {
      "needs_background": "light"
     },
     "output_type": "display_data"
    }
   ],
   "source": [
    "plt.plot(x_list, y_list, 'b:', linewidth=2, label=\"Original Function\")\n",
    "plt.plot(x_list, y_est2, 'c-', linewidth=2, label=\"Polynomial Regression (d={})\".format(degree2))\n",
    "plt.scatter(x_data, y_data, s=50, c='r', label=\"Data Points\")\n",
    "plt.xlim([np.min(x_list),np.max(x_list)])\n",
    "plt.ylim([np.min(y_data),np.max(y_data)])\n",
    "plt.legend(prop={'size': 12})\n",
    "plt.title(\"Data Plot\")\n",
    "plt.show()"
   ]
  },
  {
   "cell_type": "markdown",
   "id": "249fce56",
   "metadata": {},
   "source": [
    "### 5. [Challenging Problem] Explain the effect of degree (20pt)\n",
    "- By solving the above problems, we can observe the behaviors of polynomial regression with different degrees (1, 4, 10)\n",
    "- Explain pros and cons of high degree polynomial\n",
    "- Explain pros and cons of low degree polynomial\n",
    "- What is this phenomenon called in machine learning?"
   ]
  },
  {
   "cell_type": "markdown",
   "id": "f876e04d",
   "metadata": {},
   "source": [
    "### The following figure shows all regression results with different degrees."
   ]
  },
  {
   "cell_type": "code",
   "execution_count": 105,
   "id": "264d4fe9",
   "metadata": {},
   "outputs": [
    {
     "data": {
      "image/png": "[encoded data removed]",
      "text/plain": [
       "<Figure size 432x288 with 1 Axes>"
      ]
     },
     "metadata": {
      "needs_background": "light"
     },
     "output_type": "display_data"
    }
   ],
   "source": [
    "plt.plot(x_list, y_list, 'b:', linewidth=2, label=\"Original Function\")\n",
    "plt.plot(x_list, y_est, 'm-', linewidth=2, label=\"Polynomial Regression (d={})\".format(1))\n",
    "plt.plot(x_list, y_est1, 'g-', linewidth=2, label=\"Polynomial Regression (d={})\".format(4))\n",
    "plt.plot(x_list, y_est2, 'c-', linewidth=2, label=\"Polynomial Regression (d={})\".format(10))\n",
    "plt.scatter(x_data, y_data, s=50, c='r', label=\"Data Points\")\n",
    "plt.xlim([np.min(x_list),np.max(x_list)])\n",
    "plt.ylim([np.min(y_data),np.max(y_data)])\n",
    "plt.legend(prop={'size': 12})\n",
    "plt.title(\"Data Plot\")\n",
    "plt.show()"
   ]
  },
  {
   "cell_type": "markdown",
   "id": "3f6768af",
   "metadata": {},
   "source": [
    "Write your answer!!!\n",
    "\n",
    "high degree polynomial의 경우 구체적인 결과를 도출해낼 수 있지만 데이터에 과적합하다. 즉 편향이 작고 분산이 크다\n",
    "low degree polynomial의 경우 복잡하지 않은 결과를 도출해낼 수 있지만 데이터에 과소 적합하다. 다시 말해 편향이 크고 분산이 작다\n",
    "이러한 현상을 Bias-Variance Trade off 라고 한다\n"
   ]
  }
 ],
 "metadata": {
  "kernelspec": {
   "display_name": "Python 3",
   "language": "python",
   "name": "python3"
  },
  "language_info": {
   "codemirror_mode": {
    "name": "ipython",
    "version": 3
   },
   "file_extension": ".py",
   "mimetype": "text/x-python",
   "name": "python",
   "nbconvert_exporter": "python",
   "pygments_lexer": "ipython3",
   "version": "3.8.8"
  }
 },
 "nbformat": 4,
 "nbformat_minor": 5
}
